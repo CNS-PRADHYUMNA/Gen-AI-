{
 "cells": [
  {
   "cell_type": "code",
   "execution_count": 20,
   "id": "92022140",
   "metadata": {},
   "outputs": [
    {
     "name": "stdout",
     "output_type": "stream",
     "text": [
      "MyBank\n",
      "Current balance: 0\n",
      "Deposited: 500. New balance: 500\n",
      "Withdrew: 200. New balance: 300\n",
      "Current balance: 300\n",
      "Account Number: 123456789, Owner: John Doe, Balance: 300\n",
      "Cannot withdraw. 400  As curr balance: 300  Insufficient funds or invalid amount\n",
      "\n",
      "Creating another account...\n",
      "\n",
      "MyBank\n",
      "Current balance: 1000\n",
      "Deposited: 300. New balance: 1300\n",
      "Withdrew: 150. New balance: 1150\n",
      "Current balance: 1150\n",
      "Account Number: 987654321, Owner: Jane Smith, Balance: 1150\n"
     ]
    }
   ],
   "source": [
    "class BankAccount:\n",
    "    # class variables\n",
    "    bank_name = \"MyBank\"\n",
    "    def __init__(self,bal=0,acc_no=None,owner=None):\n",
    "        # instance variables\n",
    "        self.bal= bal\n",
    "        self.acc_no= acc_no\n",
    "        self.owner= owner\n",
    "    \n",
    "    def deposit(self, amount):\n",
    "        if amount > 0:\n",
    "            self.bal += amount\n",
    "            print(f\"Deposited: {amount}. New balance: {self.bal}\")\n",
    "        else:\n",
    "            print(\"Deposit amount must be positive.\")\n",
    "\n",
    "    def withdraw(self, amount):\n",
    "        if amount > 0 and amount <= self.bal:\n",
    "            self.bal -= amount\n",
    "            print(f\"Withdrew: {amount}. New balance: {self.bal}\")\n",
    "        else:\n",
    "            print(f\"Cannot withdraw. {amount}  As curr balance: {self.bal}  Insufficient funds or invalid amount\" )\n",
    "    \n",
    "    def display_balance(self):\n",
    "        print(f\"Current balance: {self.bal}\")\n",
    "    \n",
    "    def display_account_info(self):\n",
    "        print(f\"Account Number: {self.acc_no}, Owner: {self.owner}, Balance: {self.bal}\")\n",
    "\n",
    "\n",
    "\n",
    "acc1 = BankAccount(0, \"123456789\", \"John Doe\")\n",
    "print(acc1.bank_name)\n",
    "acc1.display_balance()\n",
    "acc1.deposit(500)\n",
    "acc1.withdraw(200)\n",
    "acc1.display_balance()\n",
    "acc1.display_account_info()\n",
    "acc1.withdraw(400)  # This should fail as the balance is insufficient\n",
    "\n",
    "print(\"\\nCreating another account...\\n\")\n",
    "\n",
    "acc2 = BankAccount(1000, \"987654321\", \"Jane Smith\")\n",
    "print(acc2.bank_name)\n",
    "acc2.display_balance()  \n",
    "acc2.deposit(300)\n",
    "acc2.withdraw(150)\n",
    "acc2.display_balance()\n",
    "acc2.display_account_info()\n",
    "\n",
    "\n",
    "\n"
   ]
  },
  {
   "cell_type": "code",
   "execution_count": null,
   "id": "603f7ffb",
   "metadata": {},
   "outputs": [
    {
     "name": "stdout",
     "output_type": "stream",
     "text": [
      "Buddy makes a sound.\n",
      "Name: Buddy \n",
      "Species: Dog \n"
     ]
    }
   ],
   "source": [
    "class Animal:\n",
    "    def __init__(self, name, species):\n",
    "        self.name = name\n",
    "        self.species = species\n",
    "\n",
    "    def make_sound(self):\n",
    "        print(f\"{self.name} makes a sound.\")\n",
    "\n",
    "    def display_info(self):\n",
    "        print(f\"Name: {self.name} \\nSpecies: {self.species} \\n\",end=\"\")\n",
    "\n",
    "class Dog(Animal):\n",
    "    def __init__(self, name, breed):\n",
    "        super().__init__(name, \"Dog\")\n",
    "        self.breed = breed\n",
    "\n",
    "    def make_sound(self):\n",
    "        print(f\"{self.name} barks.\")\n",
    "\n",
    "    def display_info(self):\n",
    "        super().display_info()\n",
    "        print(f\"Breed: {self.breed}\")\n",
    "        \n",
    "\n",
    "\n",
    "d= Dog(\"Buddy\", \"Golden Retriever\")\n",
    "d.make_sound()  \n",
    "d.display_info()\n"
   ]
  },
  {
   "cell_type": "code",
   "execution_count": 33,
   "id": "80f92090",
   "metadata": {},
   "outputs": [
    {
     "name": "stdout",
     "output_type": "stream",
     "text": [
      "Hello, I am childy, your child!\n",
      "Hello, I am daddy, your dad!\n",
      "Hello, I am mommy, your mom!\n"
     ]
    }
   ],
   "source": [
    "class Dad:\n",
    "    def __init__(self, d_name):\n",
    "        self.d_name = d_name\n",
    "\n",
    "    def say_hello(self):\n",
    "        print(f\"Hello, I am {self.d_name}, your dad!\")\n",
    "\n",
    "class Mom:\n",
    "    def __init__(self, m_name):\n",
    "        self.m_name = m_name\n",
    "\n",
    "    def say_hello(self):\n",
    "        print(f\"Hello, I am {self.m_name}, your mom!\")\n",
    "\n",
    "class Child(Dad, Mom):\n",
    "    def __init__(self, c_name, dad_name, mom_name):\n",
    "        Dad.__init__(self, dad_name)\n",
    "        Mom.__init__(self, mom_name)\n",
    "        self.c_name = c_name\n",
    "\n",
    "    def say_hello(self):\n",
    "        print(f\"Hello, I am {self.c_name}, your child!\")\n",
    "        Dad.say_hello(self)\n",
    "        Mom.say_hello(self)\n",
    "\n",
    "\n",
    "c = Child(\"childy\", \"daddy\", \"mommy\")\n",
    "\n",
    "c.say_hello()  # This will call the say_hello method from Child, Dad, and Mom classes\n"
   ]
  },
  {
   "cell_type": "code",
   "execution_count": 36,
   "id": "0e9b6216",
   "metadata": {},
   "outputs": [
    {
     "name": "stdout",
     "output_type": "stream",
     "text": [
      "Animal makes a sound.\n",
      "Dog barks.\n",
      "Animal makes a sound.\n",
      "Cat meows.\n"
     ]
    }
   ],
   "source": [
    "class Animal:\n",
    "    def make_sound(self):\n",
    "        print(\"Animal makes a sound.\")\n",
    "\n",
    "class Dog(Animal):\n",
    "    def make_sound(self):\n",
    "        print(\"Dog barks.\")\n",
    "    \n",
    "    def call_Parent(self):\n",
    "        super().make_sound()\n",
    "\n",
    "class Cat(Animal):\n",
    "    def make_sound(self):\n",
    "        print(\"Cat meows.\")\n",
    "\n",
    "\n",
    "# Method overriding example\n",
    "animal = Animal()\n",
    "dog = Dog()\n",
    "cat = Cat()\n",
    "\n",
    "animal.make_sound()  # Output: Animal makes a sound.\n",
    "dog.make_sound()     # Output: Dog barks.\n",
    "dog.call_Parent()   # Output: Animal makes a sound.\n",
    "cat.make_sound()     # Output: Cat meows."
   ]
  },
  {
   "cell_type": "code",
   "execution_count": 37,
   "id": "36333545",
   "metadata": {},
   "outputs": [
    {
     "name": "stdout",
     "output_type": "stream",
     "text": [
      "6\n",
      "3\n",
      "6\n"
     ]
    }
   ],
   "source": [
    "# Method overloading example\n",
    "class MathOperations:\n",
    "    def add(self, a, b):\n",
    "        return a + b\n",
    "\n",
    "    def add(self, a, b, c):\n",
    "        return a + b + c\n",
    "\n",
    "# This will not work as expected due to method overloading not being supported in Python\n",
    "math_ops = MathOperations()\n",
    "# print(math_ops.add(1, 2))  # This will raise an error because the second add method overrides the first one\n",
    "print(math_ops.add(1, 2, 3))  # This will work as   \n",
    "\n",
    "# how to use method overloading in Python\n",
    "# Python does not support method overloading in the traditional sense, but you can achieve similar functionality\n",
    "class MathOperations:\n",
    "    def add(self, *args):\n",
    "        return sum(args)\n",
    "    \n",
    "math_ops = MathOperations()\n",
    "print(math_ops.add(1, 2))        # Output: 3\n",
    "print(math_ops.add(1, 2, 3))     # Output: 6\n",
    "\n"
   ]
  },
  {
   "cell_type": "code",
   "execution_count": null,
   "id": "98fdd09e",
   "metadata": {},
   "outputs": [
    {
     "name": "stdout",
     "output_type": "stream",
     "text": [
      "Rectangle Area: 50\n",
      "Rectangle Perimeter: 30\n",
      "Circle Area: 153.86\n",
      "Circle Perimeter: 43.96\n"
     ]
    }
   ],
   "source": [
    "# ABC example\n",
    "from abc import ABC, abstractmethod\n",
    "\n",
    "class Shape(ABC):\n",
    "    @abstractmethod\n",
    "    def area(self):\n",
    "        pass\n",
    "\n",
    "    @abstractmethod\n",
    "    def perimeter(self):\n",
    "        pass\n",
    "\n",
    "    \n",
    "class Rectangle(Shape):\n",
    "    def __init__(self, width, height):\n",
    "        self.width = width\n",
    "        self.height = height\n",
    "\n",
    "    def area(self):\n",
    "        return self.width * self.height\n",
    "\n",
    "    def perimeter(self):\n",
    "        return 2 * (self.width + self.height)\n",
    "    \n",
    "class Circle(Shape):\n",
    "    def __init__(self, radius):\n",
    "        self.radius = radius\n",
    "\n",
    "    def area(self):\n",
    "        return 3.14 * self.radius ** 2\n",
    "\n",
    "    def perimeter(self):\n",
    "        return 2 * 3.14 * self.radius\n",
    "    \n",
    "# Example usage\n",
    "rectangle = Rectangle(5, 10)    \n",
    "print(f\"Rectangle Area: {rectangle.area()}\")\n",
    "print(f\"Rectangle Perimeter: {rectangle.perimeter()}\")\n",
    "\n",
    "circle = Circle(7)\n",
    "print(f\"Circle Area: {circle.area()}\")\n",
    "print(f\"Circle Perimeter: {circle.perimeter()}\")\n",
    "\n"
   ]
  },
  {
   "cell_type": "code",
   "execution_count": null,
   "id": "e915a1be",
   "metadata": {},
   "outputs": [
    {
     "name": "stdout",
     "output_type": "stream",
     "text": [
      "I am public\n",
      "I am protected\n"
     ]
    }
   ],
   "source": [
    "# Access Modifiers in Py \n",
    "# Python does not have strict access modifiers like some other languages, but it uses naming conventions to indicate the intended visibility of class members.\n",
    "# Public members: Accessible from anywhere\n",
    "# Protected members: Indicated by a single underscore (_), meant for internal use within the class and its subclasses.\n",
    "# Private members: Indicated by a double underscore (__), meant to be private to the class and its subclasses.\n",
    "\n",
    "# Example of public, protected, and private members\n",
    "class Example:\n",
    "    def __init__(self):\n",
    "        self.public_var = \"I am public\"\n",
    "        self._protected_var = \"I am protected\"\n",
    "        self.__private_var = \"I am private\"\n",
    "\n",
    "def getName(Example):\n",
    "        return Example.public_var\n",
    "\n",
    "print(getName(Example()))  # Output: I am public\n",
    "\n",
    "# Example of protected and private members\n",
    "class Base(Example):\n",
    "     pass\n",
    "\n",
    "b= Base()\n",
    "print(b._protected_var)  # Output: I am protected (accessible, but not recommended)\n",
    "\n"
   ]
  },
  {
   "cell_type": "code",
   "execution_count": 44,
   "id": "e01309b3",
   "metadata": {},
   "outputs": [
    {
     "name": "stdout",
     "output_type": "stream",
     "text": [
      "Alice\n",
      "30\n",
      "Bob\n",
      "25\n"
     ]
    }
   ],
   "source": [
    "#Encapsulation in Python\n",
    "\n",
    "class Person:\n",
    "    def __init__(self, name, age):\n",
    "        self.__name = name\n",
    "        self.__age = age\n",
    "\n",
    "    def get_name(self):\n",
    "        return self.__name  \n",
    "    def get_age(self):\n",
    "        return self.__age\n",
    "    \n",
    "    def set_name(self, name):\n",
    "        self.__name = name\n",
    "\n",
    "    def set_age(self, age):\n",
    "        self.__age = age\n",
    "\n",
    "# Example usage\n",
    "person = Person(\"Alice\", 30)\n",
    "print(person.get_name())  # Output: Alice\n",
    "print(person.get_age())   # Output: 30\n",
    "\n",
    "# Modifying the name and age\n",
    "person.set_name(\"Bob\")\n",
    "print(person.get_name())  # Output: Bob\n",
    "person.set_age(25)\n",
    "print(person.get_age())   # Output: 25"
   ]
  },
  {
   "cell_type": "code",
   "execution_count": 51,
   "id": "9a9fac0b",
   "metadata": {},
   "outputs": [
    {
     "name": "stdout",
     "output_type": "stream",
     "text": [
      "Car engine started.\n",
      "Car engine stopped.\n",
      "Printing from Vechicle class\n"
     ]
    }
   ],
   "source": [
    "# Abstraction example\n",
    "\n",
    "from abc import ABC, abstractmethod\n",
    "\n",
    "class Vechicle(ABC):\n",
    "\n",
    "    def take(self):\n",
    "        print(\"Printing from Vechicle class\")\n",
    "\n",
    "    @abstractmethod\n",
    "    def start_engine(self):\n",
    "        pass\n",
    "\n",
    "    @abstractmethod\n",
    "    def stop_engine(self):\n",
    "        pass\n",
    "\n",
    "class Car(Vechicle):\n",
    "    def start_engine(self):\n",
    "        print(\"Car engine started.\")\n",
    "\n",
    "    def stop_engine(self):\n",
    "        print(\"Car engine stopped.\")\n",
    "\n",
    "c = Car()\n",
    "c.start_engine()  # Output: Car engine started.\n",
    "c.stop_engine()   # Output: Car engine stopped\n",
    "c.take()  # Output: giving from Vechicle class"
   ]
  },
  {
   "cell_type": "code",
   "execution_count": null,
   "id": "1e0deb5b",
   "metadata": {},
   "outputs": [
    {
     "name": "stdout",
     "output_type": "stream",
     "text": [
      "Bike engine started.\n"
     ]
    }
   ],
   "source": [
    "class Bike():\n",
    "    def __main__(self):\n",
    "        print(\"Bike engine started.\")\n",
    "\n",
    "c= Bike()\n",
    "c.__main__()"
   ]
  },
  {
   "cell_type": "code",
   "execution_count": 53,
   "id": "272c5ff6",
   "metadata": {},
   "outputs": [
    {
     "name": "stdout",
     "output_type": "stream",
     "text": [
      "Vector(4, 6)\n",
      "Vector(2, 2)\n"
     ]
    }
   ],
   "source": [
    "#operator overloading example\n",
    "class Vector:   \n",
    "    def __init__(self, x, y):\n",
    "        self.x = x\n",
    "        self.y = y\n",
    "\n",
    "    def __add__(self, other):\n",
    "        return Vector(self.x + other.x, self.y + other.y)\n",
    "\n",
    "    def __sub__(self, other):\n",
    "        return Vector(self.x - other.x, self.y - other.y)\n",
    "\n",
    "    def __str__(self):\n",
    "        return f\"Vector({self.x}, {self.y})\"\n",
    "\n",
    "v1 = Vector(1, 2)\n",
    "v2 = Vector(3, 4)\n",
    "v3 = v1 + v2    \n",
    "print(v3)  # Output: Vector(4, 6)\n",
    "v4 = v2 - v1\n",
    "print(v4)  # Output: Vector(-2, -2)\n"
   ]
  }
 ],
 "metadata": {
  "kernelspec": {
   "display_name": "base",
   "language": "python",
   "name": "python3"
  },
  "language_info": {
   "codemirror_mode": {
    "name": "ipython",
    "version": 3
   },
   "file_extension": ".py",
   "mimetype": "text/x-python",
   "name": "python",
   "nbconvert_exporter": "python",
   "pygments_lexer": "ipython3",
   "version": "3.13.5"
  }
 },
 "nbformat": 4,
 "nbformat_minor": 5
}
