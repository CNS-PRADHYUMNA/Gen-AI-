{
 "cells": [
  {
   "cell_type": "code",
   "execution_count": 41,
   "id": "fab491a1",
   "metadata": {},
   "outputs": [
    {
     "name": "stdout",
     "output_type": "stream",
     "text": [
      "15\n"
     ]
    }
   ],
   "source": [
    "# year = int(input(\"Enter the year: \"))\n",
    "# if year % 4 == 0:\n",
    "#     if year % 100 == 0:\n",
    "#         if year % 400 == 0:\n",
    "#             print(f\"{year} is a leap year.\")\n",
    "#         else:\n",
    "#             print(f\"{year} is not a leap year.\")\n",
    "#     else:\n",
    "#         print(f\"{year} is a leap year.\")\n",
    "# else:\n",
    "#     print(f\"{year} is not a leap year.\")\n",
    "\n",
    "#more concise version\n",
    "# year = int(input(\"Enter the year: \"))\n",
    "\n",
    "# if year % 4 == 0 and (year % 100 != 0 or year % 400 == 0):\n",
    "#     print(f\"{year} is a leap year.\")\n",
    "# else:\n",
    "#     print(f\"{year} is not a leap year.\")\n",
    "\n",
    "n=5\n",
    "print(n*(n+1)//2)"
   ]
  },
  {
   "cell_type": "code",
   "execution_count": 4,
   "id": "137293b5",
   "metadata": {},
   "outputs": [
    {
     "name": "stdout",
     "output_type": "stream",
     "text": [
      "1*2*3*4*5*"
     ]
    }
   ],
   "source": [
    "l=[1,2,3,4,5]\n",
    "for i in l:\n",
    "    print(i, end='*')"
   ]
  },
  {
   "cell_type": "code",
   "execution_count": 16,
   "id": "2d4470aa",
   "metadata": {},
   "outputs": [],
   "source": [
    "l=[x**2 for x in range(10) if x&1==0]\n"
   ]
  },
  {
   "cell_type": "code",
   "execution_count": 17,
   "id": "dbd9f34d",
   "metadata": {},
   "outputs": [
    {
     "name": "stdout",
     "output_type": "stream",
     "text": [
      "[0, 1, 2, 3, 4, 1, 2, 3, 4, 5, 2, 3, 4, 5, 6, 3, 4, 5, 6, 7, 4, 5, 6, 7, 8]\n",
      "{0: 1, 1: 2, 2: 3, 3: 4, 4: 5, 5: 4, 6: 3, 7: 2, 8: 1}\n"
     ]
    }
   ],
   "source": [
    "lis=[i +j  for i in range(5) for j in range(5)]\n",
    "print(lis)\n",
    "\n",
    "d={}\n",
    "for i in lis:\n",
    "    if i not in d:\n",
    "        d[i]=1\n",
    "    else:\n",
    "        d[i]+=1\n",
    "print(d)\n"
   ]
  },
  {
   "cell_type": "code",
   "execution_count": 13,
   "id": "5819a8f1",
   "metadata": {},
   "outputs": [
    {
     "name": "stdout",
     "output_type": "stream",
     "text": [
      "['odd', 2, 'odd', 4, 'odd']\n"
     ]
    }
   ],
   "source": [
    "numbers = [1, 2, 3, 4, 5]\n",
    "result = [num if num % 2 == 0 else 'odd' for num in numbers]\n",
    "print(result)"
   ]
  }
 ],
 "metadata": {
  "kernelspec": {
   "display_name": "Python 3",
   "language": "python",
   "name": "python3"
  },
  "language_info": {
   "codemirror_mode": {
    "name": "ipython",
    "version": 3
   },
   "file_extension": ".py",
   "mimetype": "text/x-python",
   "name": "python",
   "nbconvert_exporter": "python",
   "pygments_lexer": "ipython3",
   "version": "3.13.5"
  }
 },
 "nbformat": 4,
 "nbformat_minor": 5
}
