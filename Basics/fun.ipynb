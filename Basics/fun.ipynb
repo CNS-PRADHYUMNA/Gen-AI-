{
 "cells": [
  {
   "cell_type": "code",
   "execution_count": 42,
   "id": "1e96ea6a",
   "metadata": {},
   "outputs": [
    {
     "name": "stdout",
     "output_type": "stream",
     "text": [
      "even\n"
     ]
    }
   ],
   "source": [
    "def is_even(n):\n",
    "    return n&1==0\n",
    "\n",
    "if(is_even(54)):\n",
    "    print(\"even\")\n",
    "else:\n",
    "    print(\"odd\")"
   ]
  },
  {
   "cell_type": "code",
   "execution_count": 43,
   "id": "8f4b41f3",
   "metadata": {},
   "outputs": [
    {
     "name": "stdout",
     "output_type": "stream",
     "text": [
      "Hello Guest. Welcome to the Paradise.\n",
      "Hello chris. Welcome to the Paradise.\n"
     ]
    }
   ],
   "source": [
    "def greet(name=\"Guest\"):\n",
    "    print(f\"Hello {name}. Welcome to the Paradise.\")\n",
    "\n",
    "greet()\n",
    "greet(\"chris\")"
   ]
  },
  {
   "cell_type": "code",
   "execution_count": 44,
   "id": "f9c8912a",
   "metadata": {},
   "outputs": [
    {
     "name": "stdout",
     "output_type": "stream",
     "text": [
      "5\n",
      "name: chris\n",
      "age: 30\n"
     ]
    }
   ],
   "source": [
    "# def func(*args):\n",
    "#     return max(args)\n",
    "  \n",
    "# print(func(1, 2, 3, 4, 5))\n",
    "\n",
    "# def funcx(*args):\n",
    "#     s=0\n",
    "#     for i in args:\n",
    "#         s+=i\n",
    "#     return s\n",
    "# print(funcx(10, 20, 30, 40, 50))\n",
    "\n",
    " \n",
    "# def funcy(**kwargs):\n",
    "#     for key, value in kwargs.items():\n",
    "#         print(f\"{key} = {value}\")\n",
    "# funcy(name=\"chris\", age=30, city=\"New York\")\n",
    "\n",
    "\n",
    "def fun(*args, **kwargs):\n",
    "    print(max(args))\n",
    "    for k,v in kwargs.items():\n",
    "        print(f\"{k}: {v}\")\n",
    "\n",
    "\n",
    "fun(1, 2, 3, 4, 5, name=\"chris\", age=30)\n",
    "\n"
   ]
  },
  {
   "cell_type": "code",
   "execution_count": 45,
   "id": "d7d17f88",
   "metadata": {},
   "outputs": [
    {
     "name": "stdout",
     "output_type": "stream",
     "text": [
      "(30, 10, 20)\n",
      "<class 'tuple'>\n"
     ]
    }
   ],
   "source": [
    "def add(x, y):\n",
    "    return x + y,x,y\n",
    "\n",
    "print(add(10, 20))\n",
    "\n",
    "print(type(add(10, 20)))"
   ]
  },
  {
   "cell_type": "code",
   "execution_count": 46,
   "id": "c9085707",
   "metadata": {},
   "outputs": [
    {
     "data": {
      "text/plain": [
       "15"
      ]
     },
     "execution_count": 46,
     "metadata": {},
     "output_type": "execute_result"
    }
   ],
   "source": [
    "add= lambda args:sum(args)\n",
    "add((1,2,3,4,5))"
   ]
  },
  {
   "cell_type": "code",
   "execution_count": 47,
   "id": "0fe81fd8",
   "metadata": {},
   "outputs": [
    {
     "name": "stdout",
     "output_type": "stream",
     "text": [
      "[1, 4, 3, 16, 5, 36, 7, 64, 9, 100]\n"
     ]
    }
   ],
   "source": [
    "sqr_list=list(map(lambda x:  x**2 if x % 2 == 0 else x, range(1,11)))\n",
    "\n",
    "print(sqr_list)"
   ]
  },
  {
   "cell_type": "code",
   "execution_count": 48,
   "id": "c6c421a3",
   "metadata": {},
   "outputs": [
    {
     "name": "stdout",
     "output_type": "stream",
     "text": [
      "[7, 9, 11, 13, 15]\n",
      "[1, 2, 3, 4, 5]\n"
     ]
    }
   ],
   "source": [
    "l1=[1, 2, 3, 4, 5]\n",
    "l2=[6, 7, 8, 9, 10]\n",
    "\n",
    "print(list(map(lambda x,y:x+y,l1,l2)))\n",
    "\n",
    "num=['1', '2', '3', '4', '5']\n",
    "print(list(map(int, num)))"
   ]
  },
  {
   "cell_type": "code",
   "execution_count": 49,
   "id": "ab3b1536",
   "metadata": {},
   "outputs": [
    {
     "name": "stdout",
     "output_type": "stream",
     "text": [
      "[2, 4]\n"
     ]
    }
   ],
   "source": [
    "lst =[1, 2, 3, 4, 5]\n",
    "\n",
    "print(list(filter(lambda x:x&1==0 and x>0,lst)))  "
   ]
  },
  {
   "cell_type": "code",
   "execution_count": 50,
   "id": "83a9e9d6",
   "metadata": {},
   "outputs": [
    {
     "name": "stdout",
     "output_type": "stream",
     "text": [
      "[[1 2 3]\n",
      " [4 5 6]\n",
      " [7 8 9]]\n"
     ]
    }
   ],
   "source": [
    "import numpy as np\n",
    "a = np.array([[1, 2, 3], [4, 5, 6], [7, 8, 9]])\n",
    "print(a)"
   ]
  },
  {
   "cell_type": "code",
   "execution_count": 51,
   "id": "4a87370d",
   "metadata": {},
   "outputs": [
    {
     "name": "stdout",
     "output_type": "stream",
     "text": [
      "Calling hello from subpkg!!\n",
      "Calling LOL from pkg!!\n"
     ]
    }
   ],
   "source": [
    "import importlib\n",
    "import pkg.lol as lol\n",
    "from pkg.subpkg import hello\n",
    "\n",
    "importlib.reload(lol)\n",
    "importlib.reload(hello)\n",
    "\n",
    "hello.callHello()\n",
    "\n",
    "lol.Call()\n",
    "\n"
   ]
  },
  {
   "cell_type": "code",
   "execution_count": null,
   "id": "55b659be",
   "metadata": {},
   "outputs": [],
   "source": [
    "with open(\"temp.txt\",\"w\") as f:\n",
    "    f.write(\"Hello World!\\n\")\n",
    "    f.write(\"This is a test file.\\n\")                               "
   ]
  },
  {
   "cell_type": "code",
   "execution_count": 3,
   "id": "ac3e0b8d",
   "metadata": {},
   "outputs": [],
   "source": [
    "lines=['first line\\n', 'second line\\n', 'third line\\n']\n",
    "with open(\"temp.txt\",\"a\") as f:\n",
    "    f.writelines(lines)"
   ]
  },
  {
   "cell_type": "code",
   "execution_count": 13,
   "id": "78533474",
   "metadata": {},
   "outputs": [
    {
     "name": "stdout",
     "output_type": "stream",
     "text": [
      "No exceptions occurred and variables are set correctly. a = 10\n",
      "This block always executes, regardless of exceptions.\n"
     ]
    }
   ],
   "source": [
    "try:\n",
    "    # a=b\n",
    "    # b=10/0\n",
    "    # with open(\"teemp.txt\", \"r\") as f:\n",
    "    #     content = f.read()\n",
    "    #     print(content)\n",
    "    a = 10\n",
    "except NameError as e:\n",
    "    print(f\"NameError: {e}\")\n",
    "except ZeroDivisionError as e:\n",
    "    print(f\"ZeroDivisionError: {e}\")\n",
    "except Exception as e:\n",
    "    print(f\"An unexpected error occurred: {e}\")\n",
    "else:\n",
    "    print(\"No exceptions occurred and variables are set correctly. a =\",a  )\n",
    "finally:\n",
    "    print(\"This block always executes, regardless of exceptions.\")"
   ]
  },
  {
   "cell_type": "code",
   "execution_count": 16,
   "id": "b6005d77",
   "metadata": {},
   "outputs": [
    {
     "name": "stdout",
     "output_type": "stream",
     "text": [
      "Car Make: BMW, Model: X5, Year: 2020\n"
     ]
    }
   ],
   "source": [
    "class Car:\n",
    "    def __init__(self, make, model, year):\n",
    "        self.make = make\n",
    "        self.model = model\n",
    "        self.year = year\n",
    "\n",
    "    def display_info(self):\n",
    "        print(f\"Car Make: {self.make}, Model: {self.model}, Year: {self.year}\")\n",
    "\n",
    "bmw = Car(\"BMW\", \"X5\", 2020)\n",
    "bmw.display_info()"
   ]
  },
  {
   "cell_type": "code",
   "execution_count": null,
   "id": "8e843178",
   "metadata": {},
   "outputs": [
    {
     "name": "stdout",
     "output_type": "stream",
     "text": [
      "Dog Breed: Labrador, Name: Buddy\n",
      "Dog Breed: Labrador\n",
      "Dog Name: Buddy\n",
      "Dog Breed: Not given, Name: Not given\n"
     ]
    }
   ],
   "source": [
    "class dog:\n",
    "    def __init__(self,breed=\"Not given\",name=\"Not given\"):\n",
    "        self.breed = breed\n",
    "        self.name = name\n",
    "    \n",
    "    def display_info(self):\n",
    "        print(f\"Dog Breed: {self.breed}, Name: {self.name}\")    \n",
    "\n",
    "dog1 = dog(\"Labrador\", \"Buddy\")\n",
    "dog1.display_info()\n",
    "print(\"Dog Breed:\", dog1.breed)\n",
    "print(\"Dog Name:\", dog1.name)\n",
    "\n",
    "dog2 = dog()\n",
    "dog2.display_info()\n",
    "        \n",
    "\n"
   ]
  },
  {
   "cell_type": "code",
   "execution_count": null,
   "id": "9e6aad5d",
   "metadata": {},
   "outputs": [
    {
     "name": "stdout",
     "output_type": "stream",
     "text": [
      "Current balance: 0\n",
      "Deposited: 500. New balance: 500\n",
      "Withdrew: 200. New balance: 300\n",
      "Current balance: 300\n",
      "Account Number: 123456789, Owner: John Doe, Balance: 300\n",
      "Cannot withdraw. 400  As curr balance: 300  Insufficient funds or invalid amount\n",
      "\n",
      "Creating another account...\n",
      "\n",
      "Current balance: 1000\n",
      "Deposited: 300. New balance: 1300\n",
      "Withdrew: 150. New balance: 1150\n",
      "Current balance: 1150\n",
      "Account Number: 987654321, Owner: Jane Smith, Balance: 1150\n"
     ]
    }
   ],
   "source": []
  }
 ],
 "metadata": {
  "kernelspec": {
   "display_name": "base",
   "language": "python",
   "name": "python3"
  },
  "language_info": {
   "codemirror_mode": {
    "name": "ipython",
    "version": 3
   },
   "file_extension": ".py",
   "mimetype": "text/x-python",
   "name": "python",
   "nbconvert_exporter": "python",
   "pygments_lexer": "ipython3",
   "version": "3.13.5"
  }
 },
 "nbformat": 4,
 "nbformat_minor": 5
}
