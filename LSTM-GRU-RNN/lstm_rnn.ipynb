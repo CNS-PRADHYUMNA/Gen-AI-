{
  "nbformat": 4,
  "nbformat_minor": 0,
  "metadata": {
    "colab": {
      "provenance": [],
      "gpuType": "T4"
    },
    "kernelspec": {
      "name": "python3",
      "display_name": "Python 3"
    },
    "language_info": {
      "name": "python"
    },
    "accelerator": "GPU"
  },
  "cells": [
    {
      "cell_type": "code",
      "execution_count": 1,
      "metadata": {
        "colab": {
          "base_uri": "https://localhost:8080/"
        },
        "id": "9el0l5BURc9c",
        "outputId": "36cefd9f-5ec3-44fc-edb8-0a80292474ff"
      },
      "outputs": [
        {
          "output_type": "stream",
          "name": "stdout",
          "text": [
            "Requirement already satisfied: tensorflow in /usr/local/lib/python3.11/dist-packages (2.15.0)\n",
            "Requirement already satisfied: pandas in /usr/local/lib/python3.11/dist-packages (2.2.2)\n",
            "Requirement already satisfied: numpy in /usr/local/lib/python3.11/dist-packages (1.26.4)\n",
            "Requirement already satisfied: scikit-learn in /usr/local/lib/python3.11/dist-packages (1.6.1)\n",
            "Requirement already satisfied: tensorboard in /usr/local/lib/python3.11/dist-packages (2.15.2)\n",
            "Requirement already satisfied: matplotlib in /usr/local/lib/python3.11/dist-packages (3.10.0)\n",
            "Requirement already satisfied: streamlit in /usr/local/lib/python3.11/dist-packages (1.47.1)\n",
            "Requirement already satisfied: scikeras in /usr/local/lib/python3.11/dist-packages (0.12.0)\n",
            "Requirement already satisfied: absl-py>=1.0.0 in /usr/local/lib/python3.11/dist-packages (from tensorflow) (1.4.0)\n",
            "Requirement already satisfied: astunparse>=1.6.0 in /usr/local/lib/python3.11/dist-packages (from tensorflow) (1.6.3)\n",
            "Requirement already satisfied: flatbuffers>=23.5.26 in /usr/local/lib/python3.11/dist-packages (from tensorflow) (25.2.10)\n",
            "Requirement already satisfied: gast!=0.5.0,!=0.5.1,!=0.5.2,>=0.2.1 in /usr/local/lib/python3.11/dist-packages (from tensorflow) (0.6.0)\n",
            "Requirement already satisfied: google-pasta>=0.1.1 in /usr/local/lib/python3.11/dist-packages (from tensorflow) (0.2.0)\n",
            "Requirement already satisfied: h5py>=2.9.0 in /usr/local/lib/python3.11/dist-packages (from tensorflow) (3.14.0)\n",
            "Requirement already satisfied: libclang>=13.0.0 in /usr/local/lib/python3.11/dist-packages (from tensorflow) (18.1.1)\n",
            "Requirement already satisfied: ml-dtypes~=0.2.0 in /usr/local/lib/python3.11/dist-packages (from tensorflow) (0.2.0)\n",
            "Requirement already satisfied: opt-einsum>=2.3.2 in /usr/local/lib/python3.11/dist-packages (from tensorflow) (3.4.0)\n",
            "Requirement already satisfied: packaging in /usr/local/lib/python3.11/dist-packages (from tensorflow) (25.0)\n",
            "Requirement already satisfied: protobuf!=4.21.0,!=4.21.1,!=4.21.2,!=4.21.3,!=4.21.4,!=4.21.5,<5.0.0dev,>=3.20.3 in /usr/local/lib/python3.11/dist-packages (from tensorflow) (4.25.8)\n",
            "Requirement already satisfied: setuptools in /usr/local/lib/python3.11/dist-packages (from tensorflow) (75.2.0)\n",
            "Requirement already satisfied: six>=1.12.0 in /usr/local/lib/python3.11/dist-packages (from tensorflow) (1.17.0)\n",
            "Requirement already satisfied: termcolor>=1.1.0 in /usr/local/lib/python3.11/dist-packages (from tensorflow) (3.1.0)\n",
            "Requirement already satisfied: typing-extensions>=3.6.6 in /usr/local/lib/python3.11/dist-packages (from tensorflow) (4.14.1)\n",
            "Requirement already satisfied: wrapt<1.15,>=1.11.0 in /usr/local/lib/python3.11/dist-packages (from tensorflow) (1.14.1)\n",
            "Requirement already satisfied: tensorflow-io-gcs-filesystem>=0.23.1 in /usr/local/lib/python3.11/dist-packages (from tensorflow) (0.37.1)\n",
            "Requirement already satisfied: grpcio<2.0,>=1.24.3 in /usr/local/lib/python3.11/dist-packages (from tensorflow) (1.74.0)\n",
            "Requirement already satisfied: tensorflow-estimator<2.16,>=2.15.0 in /usr/local/lib/python3.11/dist-packages (from tensorflow) (2.15.0)\n",
            "Requirement already satisfied: keras<2.16,>=2.15.0 in /usr/local/lib/python3.11/dist-packages (from tensorflow) (2.15.0)\n",
            "Requirement already satisfied: python-dateutil>=2.8.2 in /usr/local/lib/python3.11/dist-packages (from pandas) (2.9.0.post0)\n",
            "Requirement already satisfied: pytz>=2020.1 in /usr/local/lib/python3.11/dist-packages (from pandas) (2025.2)\n",
            "Requirement already satisfied: tzdata>=2022.7 in /usr/local/lib/python3.11/dist-packages (from pandas) (2025.2)\n",
            "Requirement already satisfied: scipy>=1.6.0 in /usr/local/lib/python3.11/dist-packages (from scikit-learn) (1.16.1)\n",
            "Requirement already satisfied: joblib>=1.2.0 in /usr/local/lib/python3.11/dist-packages (from scikit-learn) (1.5.1)\n",
            "Requirement already satisfied: threadpoolctl>=3.1.0 in /usr/local/lib/python3.11/dist-packages (from scikit-learn) (3.6.0)\n",
            "Requirement already satisfied: google-auth<3,>=1.6.3 in /usr/local/lib/python3.11/dist-packages (from tensorboard) (2.38.0)\n",
            "Requirement already satisfied: google-auth-oauthlib<2,>=0.5 in /usr/local/lib/python3.11/dist-packages (from tensorboard) (1.2.2)\n",
            "Requirement already satisfied: markdown>=2.6.8 in /usr/local/lib/python3.11/dist-packages (from tensorboard) (3.8.2)\n",
            "Requirement already satisfied: requests<3,>=2.21.0 in /usr/local/lib/python3.11/dist-packages (from tensorboard) (2.32.3)\n",
            "Requirement already satisfied: tensorboard-data-server<0.8.0,>=0.7.0 in /usr/local/lib/python3.11/dist-packages (from tensorboard) (0.7.2)\n",
            "Requirement already satisfied: werkzeug>=1.0.1 in /usr/local/lib/python3.11/dist-packages (from tensorboard) (3.1.3)\n",
            "Requirement already satisfied: contourpy>=1.0.1 in /usr/local/lib/python3.11/dist-packages (from matplotlib) (1.3.3)\n",
            "Requirement already satisfied: cycler>=0.10 in /usr/local/lib/python3.11/dist-packages (from matplotlib) (0.12.1)\n",
            "Requirement already satisfied: fonttools>=4.22.0 in /usr/local/lib/python3.11/dist-packages (from matplotlib) (4.59.0)\n",
            "Requirement already satisfied: kiwisolver>=1.3.1 in /usr/local/lib/python3.11/dist-packages (from matplotlib) (1.4.8)\n",
            "Requirement already satisfied: pillow>=8 in /usr/local/lib/python3.11/dist-packages (from matplotlib) (11.3.0)\n",
            "Requirement already satisfied: pyparsing>=2.3.1 in /usr/local/lib/python3.11/dist-packages (from matplotlib) (3.2.3)\n",
            "Requirement already satisfied: altair<6,>=4.0 in /usr/local/lib/python3.11/dist-packages (from streamlit) (5.5.0)\n",
            "Requirement already satisfied: blinker<2,>=1.5.0 in /usr/local/lib/python3.11/dist-packages (from streamlit) (1.9.0)\n",
            "Requirement already satisfied: cachetools<7,>=4.0 in /usr/local/lib/python3.11/dist-packages (from streamlit) (5.5.2)\n",
            "Requirement already satisfied: click<9,>=7.0 in /usr/local/lib/python3.11/dist-packages (from streamlit) (8.2.1)\n",
            "Requirement already satisfied: pyarrow>=7.0 in /usr/local/lib/python3.11/dist-packages (from streamlit) (18.1.0)\n",
            "Requirement already satisfied: tenacity<10,>=8.1.0 in /usr/local/lib/python3.11/dist-packages (from streamlit) (8.5.0)\n",
            "Requirement already satisfied: toml<2,>=0.10.1 in /usr/local/lib/python3.11/dist-packages (from streamlit) (0.10.2)\n",
            "Requirement already satisfied: watchdog<7,>=2.1.5 in /usr/local/lib/python3.11/dist-packages (from streamlit) (6.0.0)\n",
            "Requirement already satisfied: gitpython!=3.1.19,<4,>=3.0.7 in /usr/local/lib/python3.11/dist-packages (from streamlit) (3.1.45)\n",
            "Requirement already satisfied: pydeck<1,>=0.8.0b4 in /usr/local/lib/python3.11/dist-packages (from streamlit) (0.9.1)\n",
            "Requirement already satisfied: tornado!=6.5.0,<7,>=6.0.3 in /usr/local/lib/python3.11/dist-packages (from streamlit) (6.4.2)\n",
            "Requirement already satisfied: jinja2 in /usr/local/lib/python3.11/dist-packages (from altair<6,>=4.0->streamlit) (3.1.6)\n",
            "Requirement already satisfied: jsonschema>=3.0 in /usr/local/lib/python3.11/dist-packages (from altair<6,>=4.0->streamlit) (4.25.0)\n",
            "Requirement already satisfied: narwhals>=1.14.2 in /usr/local/lib/python3.11/dist-packages (from altair<6,>=4.0->streamlit) (2.0.1)\n",
            "Requirement already satisfied: wheel<1.0,>=0.23.0 in /usr/local/lib/python3.11/dist-packages (from astunparse>=1.6.0->tensorflow) (0.45.1)\n",
            "Requirement already satisfied: gitdb<5,>=4.0.1 in /usr/local/lib/python3.11/dist-packages (from gitpython!=3.1.19,<4,>=3.0.7->streamlit) (4.0.12)\n",
            "Requirement already satisfied: pyasn1-modules>=0.2.1 in /usr/local/lib/python3.11/dist-packages (from google-auth<3,>=1.6.3->tensorboard) (0.4.2)\n",
            "Requirement already satisfied: rsa<5,>=3.1.4 in /usr/local/lib/python3.11/dist-packages (from google-auth<3,>=1.6.3->tensorboard) (4.9.1)\n",
            "Requirement already satisfied: requests-oauthlib>=0.7.0 in /usr/local/lib/python3.11/dist-packages (from google-auth-oauthlib<2,>=0.5->tensorboard) (2.0.0)\n",
            "Requirement already satisfied: charset-normalizer<4,>=2 in /usr/local/lib/python3.11/dist-packages (from requests<3,>=2.21.0->tensorboard) (3.4.2)\n",
            "Requirement already satisfied: idna<4,>=2.5 in /usr/local/lib/python3.11/dist-packages (from requests<3,>=2.21.0->tensorboard) (3.10)\n",
            "Requirement already satisfied: urllib3<3,>=1.21.1 in /usr/local/lib/python3.11/dist-packages (from requests<3,>=2.21.0->tensorboard) (2.5.0)\n",
            "Requirement already satisfied: certifi>=2017.4.17 in /usr/local/lib/python3.11/dist-packages (from requests<3,>=2.21.0->tensorboard) (2025.7.14)\n",
            "Requirement already satisfied: MarkupSafe>=2.1.1 in /usr/local/lib/python3.11/dist-packages (from werkzeug>=1.0.1->tensorboard) (3.0.2)\n",
            "Requirement already satisfied: smmap<6,>=3.0.1 in /usr/local/lib/python3.11/dist-packages (from gitdb<5,>=4.0.1->gitpython!=3.1.19,<4,>=3.0.7->streamlit) (5.0.2)\n",
            "Requirement already satisfied: attrs>=22.2.0 in /usr/local/lib/python3.11/dist-packages (from jsonschema>=3.0->altair<6,>=4.0->streamlit) (25.3.0)\n",
            "Requirement already satisfied: jsonschema-specifications>=2023.03.6 in /usr/local/lib/python3.11/dist-packages (from jsonschema>=3.0->altair<6,>=4.0->streamlit) (2025.4.1)\n",
            "Requirement already satisfied: referencing>=0.28.4 in /usr/local/lib/python3.11/dist-packages (from jsonschema>=3.0->altair<6,>=4.0->streamlit) (0.36.2)\n",
            "Requirement already satisfied: rpds-py>=0.7.1 in /usr/local/lib/python3.11/dist-packages (from jsonschema>=3.0->altair<6,>=4.0->streamlit) (0.26.0)\n",
            "Requirement already satisfied: pyasn1<0.7.0,>=0.6.1 in /usr/local/lib/python3.11/dist-packages (from pyasn1-modules>=0.2.1->google-auth<3,>=1.6.3->tensorboard) (0.6.1)\n",
            "Requirement already satisfied: oauthlib>=3.0.0 in /usr/local/lib/python3.11/dist-packages (from requests-oauthlib>=0.7.0->google-auth-oauthlib<2,>=0.5->tensorboard) (3.3.1)\n"
          ]
        }
      ],
      "source": [
        "!pip install tensorflow pandas numpy scikit-learn tensorboard matplotlib streamlit scikeras"
      ]
    },
    {
      "cell_type": "code",
      "source": [
        "#Data Collection\n",
        "# we got the dataset already i.e hamlet.txt\n",
        "\n",
        "\n"
      ],
      "metadata": {
        "id": "BZFrNZAmUG1k"
      },
      "execution_count": null,
      "outputs": []
    },
    {
      "cell_type": "code",
      "source": [
        "# DATA ppo\n",
        "\n",
        "import numpy as np\n",
        "from tensorflow.keras.preprocessing.text import Tokenizer\n",
        "from tensorflow.keras.preprocessing.sequence import pad_sequences\n",
        "from sklearn.model_selection import train_test_split\n",
        "\n",
        "#load the dataset\n",
        "\n",
        "with open('hamlet.txt', 'r', encoding='utf-8') as file:\n",
        "    text = file.read().lower()\n",
        "\n",
        "tokenizer = Tokenizer()\n",
        "tokenizer.fit_on_texts([text]) # applies the tokenization on the txt\n",
        "len(tokenizer.word_index) +1"
      ],
      "metadata": {
        "colab": {
          "base_uri": "https://localhost:8080/"
        },
        "id": "bhietGVGU8UD",
        "outputId": "3c2a1bde-7ffe-4e26-c246-e1a19a46a1e8"
      },
      "execution_count": 2,
      "outputs": [
        {
          "output_type": "execute_result",
          "data": {
            "text/plain": [
              "4818"
            ]
          },
          "metadata": {},
          "execution_count": 2
        }
      ]
    },
    {
      "cell_type": "code",
      "source": [
        "ip_seq=[]\n",
        "\n",
        "for line in text.split('\\n'):\n",
        "  token_list = tokenizer.texts_to_sequences([line])[0]\n",
        "  for i in range(1, len(token_list)):\n",
        "    n_gram_seq = token_list[:i+1]\n",
        "    ip_seq.append(n_gram_seq)\n",
        "\n",
        "#pad Seq\n",
        "max_seq=max(len(x) for x in ip_seq)\n",
        "ip_seq=np.array(pad_sequences(ip_seq, maxlen=max_seq, padding='pre'))\n",
        "\n",
        "ip_seq"
      ],
      "metadata": {
        "colab": {
          "base_uri": "https://localhost:8080/"
        },
        "id": "svOAABrnVsFc",
        "outputId": "a41f3191-fe4f-4f2c-e40e-ca17a640e1f4"
      },
      "execution_count": 5,
      "outputs": [
        {
          "output_type": "execute_result",
          "data": {
            "text/plain": [
              "array([[   0,    0,    0, ...,    0,    1,  687],\n",
              "       [   0,    0,    0, ...,    1,  687,    4],\n",
              "       [   0,    0,    0, ...,  687,    4,   45],\n",
              "       ...,\n",
              "       [   0,    0,    0, ...,    4,   45, 1047],\n",
              "       [   0,    0,    0, ...,   45, 1047,    4],\n",
              "       [   0,    0,    0, ..., 1047,    4,  193]], dtype=int32)"
            ]
          },
          "metadata": {},
          "execution_count": 5
        }
      ]
    },
    {
      "cell_type": "code",
      "source": [
        "import tensorflow as tf\n",
        "\n",
        "x,y=ip_seq[:,:-1],ip_seq[:,-1]\n",
        "y=tf.keras.utils.to_categorical(y, num_classes=len(tokenizer.word_index)+1)\n",
        "\n",
        "x_train, x_test, y_train, y=train_test_split(x,y, test_size=0.2, random_state=42)"
      ],
      "metadata": {
        "id": "foggj8JfWeFZ"
      },
      "execution_count": 7,
      "outputs": []
    },
    {
      "cell_type": "code",
      "source": [
        "# Train lstm rnn\n",
        "\n",
        "from tensorflow.keras.models import Sequential\n",
        "from tensorflow.keras.layers import Dense,LSTM,Dropout,Embedding,GRU\n",
        "\n",
        "total_words=len(tokenizer.word_index)+1\n",
        "\n",
        "model=Sequential()\n",
        "model.add(Embedding(input_dim=total_words, output_dim=100, input_length=max_seq-1))\n",
        "model.add(LSTM(150 , return_sequences=True))\n",
        "model.add(Dropout(0.2))\n",
        "model.add(LSTM(100))\n",
        "model.add(Dense(total_words, activation='softmax'))\n",
        "\n",
        "model.compile(loss='categorical_crossentropy', optimizer='adam', metrics=['accuracy'])\n",
        "\n",
        "model.summary()\n",
        "\n",
        "# to use gru rnn we can just replace the LSTM -> GRU\n"
      ],
      "metadata": {
        "colab": {
          "base_uri": "https://localhost:8080/"
        },
        "id": "c9l4_HRuW-PQ",
        "outputId": "92f3d086-9681-4c47-b1c2-c1708d4e7567"
      },
      "execution_count": 14,
      "outputs": [
        {
          "output_type": "stream",
          "name": "stdout",
          "text": [
            "Model: \"sequential_4\"\n",
            "_________________________________________________________________\n",
            " Layer (type)                Output Shape              Param #   \n",
            "=================================================================\n",
            " embedding_3 (Embedding)     (None, 13, 100)           481800    \n",
            "                                                                 \n",
            " lstm_6 (LSTM)               (None, 13, 150)           150600    \n",
            "                                                                 \n",
            " dropout_3 (Dropout)         (None, 13, 150)           0         \n",
            "                                                                 \n",
            " lstm_7 (LSTM)               (None, 100)               100400    \n",
            "                                                                 \n",
            " dense_2 (Dense)             (None, 4818)              486618    \n",
            "                                                                 \n",
            "=================================================================\n",
            "Total params: 1219418 (4.65 MB)\n",
            "Trainable params: 1219418 (4.65 MB)\n",
            "Non-trainable params: 0 (0.00 Byte)\n",
            "_________________________________________________________________\n"
          ]
        }
      ]
    },
    {
      "cell_type": "code",
      "source": [
        "history=model.fit(x_train, y_train, epochs=50, verbose=1,validation_data=(x_test,y))"
      ],
      "metadata": {
        "colab": {
          "base_uri": "https://localhost:8080/"
        },
        "id": "-Wtuyi1-YlKW",
        "outputId": "e849d586-4a20-469f-969f-047b5b6623b0"
      },
      "execution_count": 13,
      "outputs": [
        {
          "output_type": "stream",
          "name": "stdout",
          "text": [
            "Epoch 1/50\n",
            "644/644 [==============================] - 38s 52ms/step - loss: 6.9204 - accuracy: 0.0324 - val_loss: 6.6904 - val_accuracy: 0.0336\n",
            "Epoch 2/50\n",
            "644/644 [==============================] - 34s 52ms/step - loss: 6.4841 - accuracy: 0.0368 - val_loss: 6.7751 - val_accuracy: 0.0416\n",
            "Epoch 3/50\n",
            "644/644 [==============================] - 33s 51ms/step - loss: 6.3535 - accuracy: 0.0444 - val_loss: 6.8170 - val_accuracy: 0.0486\n",
            "Epoch 4/50\n",
            "644/644 [==============================] - 32s 49ms/step - loss: 6.2182 - accuracy: 0.0506 - val_loss: 6.8253 - val_accuracy: 0.0478\n",
            "Epoch 5/50\n",
            "644/644 [==============================] - 33s 52ms/step - loss: 6.0784 - accuracy: 0.0540 - val_loss: 6.8714 - val_accuracy: 0.0519\n",
            "Epoch 6/50\n",
            "644/644 [==============================] - 33s 52ms/step - loss: 5.9366 - accuracy: 0.0616 - val_loss: 6.8872 - val_accuracy: 0.0612\n",
            "Epoch 7/50\n",
            "644/644 [==============================] - 34s 53ms/step - loss: 5.7964 - accuracy: 0.0699 - val_loss: 6.9336 - val_accuracy: 0.0600\n",
            "Epoch 8/50\n",
            "644/644 [==============================] - 32s 50ms/step - loss: 5.6636 - accuracy: 0.0755 - val_loss: 6.9719 - val_accuracy: 0.0645\n",
            "Epoch 9/50\n",
            "644/644 [==============================] - 34s 52ms/step - loss: 5.5387 - accuracy: 0.0820 - val_loss: 7.0528 - val_accuracy: 0.0672\n",
            "Epoch 10/50\n",
            "644/644 [==============================] - 33s 51ms/step - loss: 5.4251 - accuracy: 0.0871 - val_loss: 7.1609 - val_accuracy: 0.0657\n",
            "Epoch 11/50\n",
            "644/644 [==============================] - 33s 51ms/step - loss: 5.3178 - accuracy: 0.0939 - val_loss: 7.2533 - val_accuracy: 0.0664\n",
            "Epoch 12/50\n",
            "644/644 [==============================] - 33s 51ms/step - loss: 5.2105 - accuracy: 0.0998 - val_loss: 7.3516 - val_accuracy: 0.0639\n",
            "Epoch 13/50\n",
            "644/644 [==============================] - 33s 51ms/step - loss: 5.1039 - accuracy: 0.1056 - val_loss: 7.4568 - val_accuracy: 0.0659\n",
            "Epoch 14/50\n",
            "644/644 [==============================] - 33s 51ms/step - loss: 5.0018 - accuracy: 0.1103 - val_loss: 7.5412 - val_accuracy: 0.0637\n",
            "Epoch 15/50\n",
            "644/644 [==============================] - 32s 49ms/step - loss: 4.8980 - accuracy: 0.1141 - val_loss: 7.6674 - val_accuracy: 0.0643\n",
            "Epoch 16/50\n",
            "644/644 [==============================] - 33s 51ms/step - loss: 4.7959 - accuracy: 0.1195 - val_loss: 7.7952 - val_accuracy: 0.0694\n",
            "Epoch 17/50\n",
            "644/644 [==============================] - 32s 50ms/step - loss: 4.6919 - accuracy: 0.1266 - val_loss: 7.9077 - val_accuracy: 0.0643\n",
            "Epoch 18/50\n",
            "644/644 [==============================] - 33s 51ms/step - loss: 4.5955 - accuracy: 0.1309 - val_loss: 8.0362 - val_accuracy: 0.0639\n",
            "Epoch 19/50\n",
            "644/644 [==============================] - 33s 51ms/step - loss: 4.4987 - accuracy: 0.1349 - val_loss: 8.1779 - val_accuracy: 0.0620\n",
            "Epoch 20/50\n",
            "644/644 [==============================] - 34s 53ms/step - loss: 4.4048 - accuracy: 0.1418 - val_loss: 8.3303 - val_accuracy: 0.0637\n",
            "Epoch 21/50\n",
            "644/644 [==============================] - 34s 52ms/step - loss: 4.3139 - accuracy: 0.1488 - val_loss: 8.4477 - val_accuracy: 0.0639\n",
            "Epoch 22/50\n",
            "644/644 [==============================] - 32s 49ms/step - loss: 4.2247 - accuracy: 0.1579 - val_loss: 8.6064 - val_accuracy: 0.0633\n",
            "Epoch 23/50\n",
            "644/644 [==============================] - 33s 52ms/step - loss: 4.1390 - accuracy: 0.1681 - val_loss: 8.7326 - val_accuracy: 0.0612\n",
            "Epoch 24/50\n",
            "644/644 [==============================] - 32s 50ms/step - loss: 4.0610 - accuracy: 0.1795 - val_loss: 8.8714 - val_accuracy: 0.0614\n",
            "Epoch 25/50\n",
            "644/644 [==============================] - 33s 52ms/step - loss: 3.9832 - accuracy: 0.1892 - val_loss: 8.9795 - val_accuracy: 0.0598\n",
            "Epoch 26/50\n",
            "644/644 [==============================] - 33s 51ms/step - loss: 3.9105 - accuracy: 0.2006 - val_loss: 9.1255 - val_accuracy: 0.0614\n",
            "Epoch 27/50\n",
            "644/644 [==============================] - 34s 53ms/step - loss: 3.8404 - accuracy: 0.2119 - val_loss: 9.2608 - val_accuracy: 0.0631\n",
            "Epoch 28/50\n",
            "644/644 [==============================] - 33s 52ms/step - loss: 3.7697 - accuracy: 0.2251 - val_loss: 9.3630 - val_accuracy: 0.0589\n",
            "Epoch 29/50\n",
            "644/644 [==============================] - 32s 50ms/step - loss: 3.7089 - accuracy: 0.2340 - val_loss: 9.4510 - val_accuracy: 0.0606\n",
            "Epoch 30/50\n",
            "644/644 [==============================] - 33s 52ms/step - loss: 3.6448 - accuracy: 0.2445 - val_loss: 9.6196 - val_accuracy: 0.0628\n",
            "Epoch 31/50\n",
            "644/644 [==============================] - 32s 50ms/step - loss: 3.5902 - accuracy: 0.2527 - val_loss: 9.6977 - val_accuracy: 0.0589\n",
            "Epoch 32/50\n",
            "644/644 [==============================] - 34s 53ms/step - loss: 3.5319 - accuracy: 0.2625 - val_loss: 9.8078 - val_accuracy: 0.0589\n",
            "Epoch 33/50\n",
            "644/644 [==============================] - 33s 51ms/step - loss: 3.4790 - accuracy: 0.2706 - val_loss: 9.9150 - val_accuracy: 0.0620\n",
            "Epoch 34/50\n",
            "644/644 [==============================] - 35s 54ms/step - loss: 3.4267 - accuracy: 0.2800 - val_loss: 9.9878 - val_accuracy: 0.0556\n",
            "Epoch 35/50\n",
            "644/644 [==============================] - 34s 52ms/step - loss: 3.3794 - accuracy: 0.2893 - val_loss: 10.0756 - val_accuracy: 0.0561\n",
            "Epoch 36/50\n",
            "644/644 [==============================] - 32s 50ms/step - loss: 3.3247 - accuracy: 0.2982 - val_loss: 10.1827 - val_accuracy: 0.0575\n",
            "Epoch 37/50\n",
            "644/644 [==============================] - 34s 52ms/step - loss: 3.2764 - accuracy: 0.3050 - val_loss: 10.2796 - val_accuracy: 0.0563\n",
            "Epoch 38/50\n",
            "644/644 [==============================] - 33s 51ms/step - loss: 3.2310 - accuracy: 0.3136 - val_loss: 10.3772 - val_accuracy: 0.0558\n",
            "Epoch 39/50\n",
            "644/644 [==============================] - 33s 51ms/step - loss: 3.1893 - accuracy: 0.3217 - val_loss: 10.4534 - val_accuracy: 0.0546\n",
            "Epoch 40/50\n",
            "644/644 [==============================] - 34s 53ms/step - loss: 3.1441 - accuracy: 0.3306 - val_loss: 10.5356 - val_accuracy: 0.0532\n",
            "Epoch 41/50\n",
            "644/644 [==============================] - 33s 52ms/step - loss: 3.0989 - accuracy: 0.3359 - val_loss: 10.6373 - val_accuracy: 0.0575\n",
            "Epoch 42/50\n",
            "644/644 [==============================] - 34s 52ms/step - loss: 3.0615 - accuracy: 0.3419 - val_loss: 10.7354 - val_accuracy: 0.0544\n",
            "Epoch 43/50\n",
            "644/644 [==============================] - 32s 50ms/step - loss: 3.0313 - accuracy: 0.3492 - val_loss: 10.8116 - val_accuracy: 0.0556\n",
            "Epoch 44/50\n",
            "644/644 [==============================] - 33s 52ms/step - loss: 2.9814 - accuracy: 0.3562 - val_loss: 10.8837 - val_accuracy: 0.0556\n",
            "Epoch 45/50\n",
            "644/644 [==============================] - 33s 52ms/step - loss: 2.9464 - accuracy: 0.3651 - val_loss: 10.9488 - val_accuracy: 0.0532\n",
            "Epoch 46/50\n",
            "644/644 [==============================] - 33s 51ms/step - loss: 2.9103 - accuracy: 0.3715 - val_loss: 10.9966 - val_accuracy: 0.0528\n",
            "Epoch 47/50\n",
            "644/644 [==============================] - 33s 52ms/step - loss: 2.8812 - accuracy: 0.3770 - val_loss: 11.0755 - val_accuracy: 0.0544\n",
            "Epoch 48/50\n",
            "644/644 [==============================] - 34s 52ms/step - loss: 2.8399 - accuracy: 0.3846 - val_loss: 11.1669 - val_accuracy: 0.0511\n",
            "Epoch 49/50\n",
            "644/644 [==============================] - 33s 52ms/step - loss: 2.8055 - accuracy: 0.3896 - val_loss: 11.2524 - val_accuracy: 0.0519\n",
            "Epoch 50/50\n",
            "644/644 [==============================] - 32s 50ms/step - loss: 2.7699 - accuracy: 0.3962 - val_loss: 11.3511 - val_accuracy: 0.0525\n"
          ]
        }
      ]
    },
    {
      "cell_type": "code",
      "source": [
        "# Function to predict the next word\n",
        "def predict_next_word(model, tokenizer, text, max_sequence_len):\n",
        "    token_list = tokenizer.texts_to_sequences([text])[0]\n",
        "    if len(token_list) >= max_sequence_len:\n",
        "        token_list = token_list[-(max_sequence_len-1):]  # Ensure the sequence length matches max_sequence_len-1\n",
        "    token_list = pad_sequences([token_list], maxlen=max_sequence_len-1, padding='pre')\n",
        "    predicted = model.predict(token_list, verbose=0)\n",
        "    predicted_word_index = np.argmax(predicted, axis=1)\n",
        "    for word, index in tokenizer.word_index.items():\n",
        "        if index == predicted_word_index:\n",
        "            return word\n",
        "    return None"
      ],
      "metadata": {
        "id": "LWUyk9hRaU17"
      },
      "execution_count": 15,
      "outputs": []
    },
    {
      "cell_type": "code",
      "source": [
        "input_text=\"What are you doing here Mr\"\n",
        "print(f\"Input text:{input_text}\")\n",
        "max_sequence_len=model.input_shape[1]+1\n",
        "next_word=predict_next_word(model,tokenizer,input_text,max_sequence_len)\n",
        "print(f\"Next Word PRediction:{next_word}\")\n",
        "print()\n",
        "print(f\"{ input_text} {next_word}\")"
      ],
      "metadata": {
        "colab": {
          "base_uri": "https://localhost:8080/"
        },
        "id": "SDdSdbWDaW7i",
        "outputId": "cde06109-c4a6-4c4a-efc7-d33eec4113f9"
      },
      "execution_count": 52,
      "outputs": [
        {
          "output_type": "stream",
          "name": "stdout",
          "text": [
            "Input text:What are you doing here Mr\n",
            "Next Word PRediction:murderer\n",
            "\n",
            "What are you doing here Mr murderer\n"
          ]
        }
      ]
    },
    {
      "cell_type": "code",
      "metadata": {
        "id": "3b4a570b",
        "outputId": "85d650ee-1316-4cba-deec-2a0615139271",
        "colab": {
          "base_uri": "https://localhost:8080/",
          "height": 410
        }
      },
      "source": [
        "import matplotlib.pyplot as plt\n",
        "\n",
        "# Plotting the training and validation accuracy\n",
        "plt.figure(figsize=(12, 4))\n",
        "plt.subplot(1, 2, 1)\n",
        "plt.plot(history.history['accuracy'], label='Training Accuracy')\n",
        "plt.plot(history.history['val_accuracy'], label='Validation Accuracy')\n",
        "plt.title('Training and Validation Accuracy')\n",
        "plt.xlabel('Epochs')\n",
        "plt.ylabel('Accuracy')\n",
        "plt.legend()\n",
        "\n",
        "# Plotting the training and validation loss\n",
        "plt.subplot(1, 2, 2)\n",
        "plt.plot(history.history['loss'], label='Training Loss')\n",
        "plt.plot(history.history['val_loss'], label='Validation Loss')\n",
        "plt.title('Training and Validation Loss')\n",
        "plt.xlabel('Epochs')\n",
        "plt.ylabel('Loss')\n",
        "plt.legend()\n",
        "\n",
        "plt.show()"
      ],
      "execution_count": 53,
      "outputs": [
        {
          "output_type": "display_data",
          "data": {
            "text/plain": [
              "<Figure size 1200x400 with 2 Axes>"
            ],
            "image/png": "[encoded data removed]"
          },
          "metadata": {}
        }
      ]
    }
  ]
}